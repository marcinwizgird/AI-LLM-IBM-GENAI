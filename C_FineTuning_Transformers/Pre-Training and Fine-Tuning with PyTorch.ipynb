{
 "cells": [
  {
   "cell_type": "markdown",
   "metadata": {},
   "source": [
    "<p style=\"text-align:center\">\n",
    "    <a href=\"https://skills.network\" target=\"_blank\">\n",
    "    <img src=\"https://cf-courses-data.s3.us.cloud-object-storage.appdomain.cloud/assets/logos/SN_web_lightmode.png\" width=\"200\" alt=\"Skills Network Logo\"  />\n",
    "    </a>\n",
    "</p>\n"
   ]
  },
  {
   "cell_type": "markdown",
   "metadata": {},
   "source": [
    "# **Pre-Training and Fine-Tuning with PyTorch**\n",
    "\n",
    "Estimated time needed: **60** minutes\n",
    "\n",
    "As a machine learning engineer working for a streaming site, your objective is to develop a recommender system based on written movie reviews. Given that the dataset for these reviews is relatively small, your strategy leverages a larger, accessible dataset of magazine articles. The plan is to pretrain the model on this expansive magazine dataset to capture a broad understanding of text and language patterns. Subsequently, the model will undergo fine-tuning on the smaller, specific dataset of movie reviews to adapt its learned features to the particular task of recommending movies.\n",
    "\n",
    "\n",
    "\n",
    "![Documents Overload](https://cf-courses-data.s3.us.cloud-object-storage.appdomain.cloud/IMDvs-jpgkFICi5fhx6Fr7LBPie55jA.jpg)\n",
    "\n",
    "Fine-tuning a pretrained model can be approached in several ways, each with its advantages and disadvantages:\n",
    "\n",
    "1. **Training the model on the small movie dataset:**\n",
    "   - **Advantages:** Directly training on the movie review data ensures that the model is highly specialized and tailored to the specific characteristics and nuances of the dataset.\n",
    "   - **Disadvantages:** Due to the small size of the dataset, the model is at a higher risk of overfitting. There might not be enough data to effectively capture all of the complexities of language and sentiment in movie reviews.\n",
    "\n",
    "2. **Pretraining the model on a larger general-domain text and fine-tuning the movie dataset for each parameter:**\n",
    "   - **Advantages:** This approach allows every part of the model to learn from the movie reviews, potentially improving its accuracy on the specific task.\n",
    "   - **Disadvantages:** Fine-tuning all parameters with a small dataset can still lead to overfitting. It also requires huge computational resources and time, as adjustments across all parameters might lead to numerous iterations of training.\n",
    "\n",
    "3. **Fine-tuning on the final layer only:**\n",
    "   - **Advantages:** Fine-tuning only the final layer reduces the risk of overfitting, as the bulk of the model retains its pretrained structure. This method is faster and less resource-intensive.\n",
    "   - **Disadvantages:** Because only the final layer is adjusted, the model might not fully adapt to the specifics of the movie reviews, potentially limiting its effectiveness in understanding deeper contextual nuances.\n",
    "\n",
    "Each method offers a balance between adapting to the specifics of the movie review dataset and maintaining the robustness and generalizability learned from the larger magazine article dataset. Choosing the right strategy depends on the specific requirements and constraints of the project, such as available computational resources, the urgency of deployment, and the desired accuracy and specificity of the recommender system.\n"
   ]
  },
  {
   "cell_type": "markdown",
   "metadata": {},
   "source": [
    "# __Table of contents__\n",
    "\n",
    "<ol>\n",
    "    <li><a href=\"#Objectives\">Objectives</a></li>\n",
    "    <li>\n",
    "        <a href=\"#Setup\">Setup</a>\n",
    "        <ol>\n",
    "            <li><a href=\"#Install-required-libraries\">Install required libraries</a></li>\n",
    "            <li><a href=\"#Import-required-libraries\">Import required libraries</a></li>\n",
    "            <li><a href=\"#Define-helper-functions\">Defining helper functions</a></li>\n",
    "        </ol>\n",
    "    </li>\n",
    "    <li><a href=\"#Positional-encodings\">Positional encodings</a></li>\n",
    "    <li><a href=\"#Import-IMDB-dataset\">Import IMDB dataset</a></li>\n",
    "    <ol>\n",
    "        <li><a href=\"#IMDB-dataset-overview\">IMDB dataset overview</a></li>\n",
    "        <ol>\n",
    "            <li><a href=\"#Dataset-composition\">Dataset composition</a></li>\n",
    "            <li><a href=\"#Applications\">Applications</a></li>\n",
    "            <li><a href=\"#Challenges\">Challenges</a></li>\n",
    "            <li><a href=\"#Dataset-splits\">Dataset splits</a></li>\n",
    "            <li><a href=\"#Data-loader\">Data loader</a></li>\n",
    "            <li><a href=\"#Neural-network\">Neural network</a></li>\n",
    "        </ol>\n",
    "    </ol>\n",
    "    <li>\n",
    "        <a href=\"#Training\">Training</a>\n",
    "        <ol>\n",
    "            <li><a href=\"#Train-IMDB\">Train IMDB</a></li>\n",
    "            <li><a href=\"#Fine-tune-a-model-pretrained-on-the-AG-News-dataset\">Fine-tune a model pretrained on the AG News dataset</a></li>\n",
    "            <li><a href=\"#Fine-tune-the-final-layer-only\">Fine-tune the final layer only</a></li>\n",
    "        </ol>\n",
    "    </li>\n",
    "    <li><a href=\"#Exercise:-Unfreeze-specific-layers-for-fine-tuning\">Exercise: Unfreeze specific layers for fine-tuning</a></li>\n"
   ]
  },
  {
   "cell_type": "markdown",
   "metadata": {},
   "source": [
    "---\n"
   ]
  },
  {
   "cell_type": "markdown",
   "metadata": {},
   "source": [
    "# Objectives\n",
    "\n",
    "After completing this lab, you will be able to:\n",
    "\n",
    "- Define and pretrain a transformer-based neural network using PyTorch for a classification task\n",
    "- Fully fine-tune the pretrained model for a different classification task\n",
    "- Compare results by fine-tuning only the last layer of the pretrained model\n"
   ]
  },
  {
   "cell_type": "markdown",
   "metadata": {},
   "source": [
    "---\n"
   ]
  },
  {
   "cell_type": "markdown",
   "metadata": {},
   "source": [
    "# Setup\n"
   ]
  },
  {
   "cell_type": "markdown",
   "metadata": {},
   "source": [
    "### Install required libraries\n"
   ]
  },
  {
   "cell_type": "markdown",
   "metadata": {},
   "source": [
    "For this lab, you'll use the following libraries, which are __not__ preinstalled in the Skills Network Labs environment. __You must run the code in the following cell__ to install them.\n"
   ]
  },
  {
   "cell_type": "code",
   "metadata": {
    "ExecuteTime": {
     "end_time": "2025-07-08T05:01:33.802751Z",
     "start_time": "2025-07-08T05:01:33.792143Z"
    }
   },
   "source": [
    "#!pip install --upgrade portalocker==2.8.2 torchtext==0.17.0 torchdata==0.7.1 pandas==2.2.2 matplotlib==3.9.0 scikit-learn==1.5.0 torch==2.2.0 numpy==1.23.2"
   ],
   "outputs": [],
   "execution_count": 1
  },
  {
   "cell_type": "code",
   "metadata": {
    "ExecuteTime": {
     "end_time": "2025-07-08T05:01:33.815858Z",
     "start_time": "2025-07-08T05:01:33.802751Z"
    }
   },
   "source": [
    "#!pip install torch==2.2.2\n",
    "#!pip install torchtext==0.17.2\n",
    "#!pip install portalocker==2.8.2\n",
    "#!pip install torchdata==0.7.1\n",
    "#!pip install pandas\n",
    "#!pip install matplotlib==3.9.0 scikit-learn==1.5.0"
   ],
   "outputs": [],
   "execution_count": 2
  },
  {
   "cell_type": "code",
   "metadata": {
    "ExecuteTime": {
     "end_time": "2025-07-08T05:01:33.994687Z",
     "start_time": "2025-07-08T05:01:33.991762Z"
    }
   },
   "source": "#!pip install numpy==1.26.0",
   "outputs": [],
   "execution_count": 3
  },
  {
   "cell_type": "markdown",
   "metadata": {},
   "source": [
    "### Import required libraries\n",
    "\n",
    "The following imports the required libraries.\n"
   ]
  },
  {
   "metadata": {
    "ExecuteTime": {
     "end_time": "2025-07-10T08:48:20.141677Z",
     "start_time": "2025-07-10T08:48:20.033937Z"
    }
   },
   "cell_type": "code",
   "source": "import torchtext",
   "outputs": [
    {
     "ename": "OSError",
     "evalue": "[WinError 127] The specified procedure could not be found",
     "output_type": "error",
     "traceback": [
      "\u001B[31m---------------------------------------------------------------------------\u001B[39m",
      "\u001B[31mOSError\u001B[39m                                   Traceback (most recent call last)",
      "\u001B[36mCell\u001B[39m\u001B[36m \u001B[39m\u001B[32mIn[3]\u001B[39m\u001B[32m, line 1\u001B[39m\n\u001B[32m----> \u001B[39m\u001B[32m1\u001B[39m \u001B[38;5;28;01mimport\u001B[39;00m\u001B[38;5;250m \u001B[39m\u001B[34;01mtorchtext\u001B[39;00m\n",
      "\u001B[36mFile \u001B[39m\u001B[32m~\\anaconda3\\envs\\COURSERA_GENAI\\Lib\\site-packages\\torchtext\\__init__.py:18\u001B[39m\n\u001B[32m     15\u001B[39m     _WARN = \u001B[38;5;28;01mFalse\u001B[39;00m\n\u001B[32m     17\u001B[39m \u001B[38;5;66;03m# the following import has to happen first in order to load the torchtext C++ library\u001B[39;00m\n\u001B[32m---> \u001B[39m\u001B[32m18\u001B[39m \u001B[38;5;28;01mfrom\u001B[39;00m\u001B[38;5;250m \u001B[39m\u001B[34;01mtorchtext\u001B[39;00m\u001B[38;5;250m \u001B[39m\u001B[38;5;28;01mimport\u001B[39;00m _extension  \u001B[38;5;66;03m# noqa: F401\u001B[39;00m\n\u001B[32m     20\u001B[39m _TEXT_BUCKET = \u001B[33m\"\u001B[39m\u001B[33mhttps://download.pytorch.org/models/text/\u001B[39m\u001B[33m\"\u001B[39m\n\u001B[32m     22\u001B[39m _CACHE_DIR = os.path.expanduser(os.path.join(_get_torch_home(), \u001B[33m\"\u001B[39m\u001B[33mtext\u001B[39m\u001B[33m\"\u001B[39m))\n",
      "\u001B[36mFile \u001B[39m\u001B[32m~\\anaconda3\\envs\\COURSERA_GENAI\\Lib\\site-packages\\torchtext\\_extension.py:64\u001B[39m\n\u001B[32m     59\u001B[39m     \u001B[38;5;66;03m# This import is for initializing the methods registered via PyBind11\u001B[39;00m\n\u001B[32m     60\u001B[39m     \u001B[38;5;66;03m# This has to happen after the base library is loaded\u001B[39;00m\n\u001B[32m     61\u001B[39m     \u001B[38;5;28;01mfrom\u001B[39;00m\u001B[38;5;250m \u001B[39m\u001B[34;01mtorchtext\u001B[39;00m\u001B[38;5;250m \u001B[39m\u001B[38;5;28;01mimport\u001B[39;00m _torchtext  \u001B[38;5;66;03m# noqa\u001B[39;00m\n\u001B[32m---> \u001B[39m\u001B[32m64\u001B[39m _init_extension()\n",
      "\u001B[36mFile \u001B[39m\u001B[32m~\\anaconda3\\envs\\COURSERA_GENAI\\Lib\\site-packages\\torchtext\\_extension.py:58\u001B[39m, in \u001B[36m_init_extension\u001B[39m\u001B[34m()\u001B[39m\n\u001B[32m     55\u001B[39m \u001B[38;5;28;01mif\u001B[39;00m \u001B[38;5;129;01mnot\u001B[39;00m _mod_utils.is_module_available(\u001B[33m\"\u001B[39m\u001B[33mtorchtext._torchtext\u001B[39m\u001B[33m\"\u001B[39m):\n\u001B[32m     56\u001B[39m     \u001B[38;5;28;01mraise\u001B[39;00m \u001B[38;5;167;01mImportError\u001B[39;00m(\u001B[33m\"\u001B[39m\u001B[33mtorchtext C++ Extension is not found.\u001B[39m\u001B[33m\"\u001B[39m)\n\u001B[32m---> \u001B[39m\u001B[32m58\u001B[39m _load_lib(\u001B[33m\"\u001B[39m\u001B[33mlibtorchtext\u001B[39m\u001B[33m\"\u001B[39m)\n\u001B[32m     59\u001B[39m \u001B[38;5;66;03m# This import is for initializing the methods registered via PyBind11\u001B[39;00m\n\u001B[32m     60\u001B[39m \u001B[38;5;66;03m# This has to happen after the base library is loaded\u001B[39;00m\n\u001B[32m     61\u001B[39m \u001B[38;5;28;01mfrom\u001B[39;00m\u001B[38;5;250m \u001B[39m\u001B[34;01mtorchtext\u001B[39;00m\u001B[38;5;250m \u001B[39m\u001B[38;5;28;01mimport\u001B[39;00m _torchtext\n",
      "\u001B[36mFile \u001B[39m\u001B[32m~\\anaconda3\\envs\\COURSERA_GENAI\\Lib\\site-packages\\torchtext\\_extension.py:50\u001B[39m, in \u001B[36m_load_lib\u001B[39m\u001B[34m(lib)\u001B[39m\n\u001B[32m     48\u001B[39m \u001B[38;5;28;01mif\u001B[39;00m \u001B[38;5;129;01mnot\u001B[39;00m path.exists():\n\u001B[32m     49\u001B[39m     \u001B[38;5;28;01mreturn\u001B[39;00m \u001B[38;5;28;01mFalse\u001B[39;00m\n\u001B[32m---> \u001B[39m\u001B[32m50\u001B[39m torch.ops.load_library(path)\n\u001B[32m     51\u001B[39m \u001B[38;5;28;01mreturn\u001B[39;00m \u001B[38;5;28;01mTrue\u001B[39;00m\n",
      "\u001B[36mFile \u001B[39m\u001B[32m~\\anaconda3\\envs\\COURSERA_GENAI\\Lib\\site-packages\\torch\\_ops.py:1392\u001B[39m, in \u001B[36m_Ops.load_library\u001B[39m\u001B[34m(self, path)\u001B[39m\n\u001B[32m   1387\u001B[39m path = _utils_internal.resolve_library_path(path)\n\u001B[32m   1388\u001B[39m \u001B[38;5;28;01mwith\u001B[39;00m dl_open_guard():\n\u001B[32m   1389\u001B[39m     \u001B[38;5;66;03m# Import the shared library into the process, thus running its\u001B[39;00m\n\u001B[32m   1390\u001B[39m     \u001B[38;5;66;03m# static (global) initialization code in order to register custom\u001B[39;00m\n\u001B[32m   1391\u001B[39m     \u001B[38;5;66;03m# operators with the JIT.\u001B[39;00m\n\u001B[32m-> \u001B[39m\u001B[32m1392\u001B[39m     ctypes.CDLL(path)\n\u001B[32m   1393\u001B[39m \u001B[38;5;28mself\u001B[39m.loaded_libraries.add(path)\n",
      "\u001B[36mFile \u001B[39m\u001B[32m~\\anaconda3\\envs\\COURSERA_GENAI\\Lib\\ctypes\\__init__.py:376\u001B[39m, in \u001B[36mCDLL.__init__\u001B[39m\u001B[34m(self, name, mode, handle, use_errno, use_last_error, winmode)\u001B[39m\n\u001B[32m    373\u001B[39m \u001B[38;5;28mself\u001B[39m._FuncPtr = _FuncPtr\n\u001B[32m    375\u001B[39m \u001B[38;5;28;01mif\u001B[39;00m handle \u001B[38;5;129;01mis\u001B[39;00m \u001B[38;5;28;01mNone\u001B[39;00m:\n\u001B[32m--> \u001B[39m\u001B[32m376\u001B[39m     \u001B[38;5;28mself\u001B[39m._handle = _dlopen(\u001B[38;5;28mself\u001B[39m._name, mode)\n\u001B[32m    377\u001B[39m \u001B[38;5;28;01melse\u001B[39;00m:\n\u001B[32m    378\u001B[39m     \u001B[38;5;28mself\u001B[39m._handle = handle\n",
      "\u001B[31mOSError\u001B[39m: [WinError 127] The specified procedure could not be found"
     ]
    }
   ],
   "execution_count": 3
  },
  {
   "cell_type": "code",
   "metadata": {
    "ExecuteTime": {
     "end_time": "2025-07-10T08:45:43.990878Z",
     "start_time": "2025-07-10T08:44:54.452136Z"
    }
   },
   "source": [
    "from tqdm import tqdm\n",
    "import time\n",
    "import numpy as np\n",
    "import pandas as pd\n",
    "from itertools import accumulate\n",
    "import matplotlib.pyplot as plt\n",
    "import math\n",
    "\n",
    "import torch\n",
    "torch.set_num_threads(1)\n",
    "from torch import nn\n",
    "import os\n",
    "\n",
    "import torchtext\n",
    "from torch.utils.data import DataLoader\n",
    "\n",
    "#from torchtext.datasets import AG_NEWS\n",
    "from custom_datasets import ag_news as AG_NEWS \n",
    "from IPython.display import Markdown as md\n",
    "\n",
    "from torchtext.data.utils import get_tokenizer\n",
    "from torchtext.vocab import build_vocab_from_iterator, GloVe, Vectors\n",
    "from torchtext.datasets import IMDB\n",
    "from torch.utils.data import Dataset\n",
    "from torch.utils.data.dataset import random_split\n",
    "from torchtext.data.functional import to_map_style_dataset\n",
    "\n",
    "import pickle\n",
    "\n",
    "from urllib.request import urlopen\n",
    "import io\n",
    "\n",
    "import tarfile\n",
    "import tempfile\n",
    "\n",
    "from torch.nn.utils.rnn import pad_sequence\n",
    "\n",
    "# You can also use this section to suppress warnings generated by your code:\n",
    "def warn(*args, **kwargs):\n",
    "    pass\n",
    "import warnings\n",
    "warnings.warn = warn\n",
    "warnings.filterwarnings('ignore')"
   ],
   "outputs": [
    {
     "ename": "OSError",
     "evalue": "[WinError 127] The specified procedure could not be found",
     "output_type": "error",
     "traceback": [
      "\u001B[31m---------------------------------------------------------------------------\u001B[39m",
      "\u001B[31mOSError\u001B[39m                                   Traceback (most recent call last)",
      "\u001B[36mCell\u001B[39m\u001B[36m \u001B[39m\u001B[32mIn[1]\u001B[39m\u001B[32m, line 14\u001B[39m\n\u001B[32m     11\u001B[39m \u001B[38;5;28;01mfrom\u001B[39;00m\u001B[38;5;250m \u001B[39m\u001B[34;01mtorch\u001B[39;00m\u001B[38;5;250m \u001B[39m\u001B[38;5;28;01mimport\u001B[39;00m nn\n\u001B[32m     12\u001B[39m \u001B[38;5;28;01mimport\u001B[39;00m\u001B[38;5;250m \u001B[39m\u001B[34;01mos\u001B[39;00m\n\u001B[32m---> \u001B[39m\u001B[32m14\u001B[39m \u001B[38;5;28;01mimport\u001B[39;00m\u001B[38;5;250m \u001B[39m\u001B[34;01mtorchtext\u001B[39;00m\n\u001B[32m     15\u001B[39m \u001B[38;5;28;01mfrom\u001B[39;00m\u001B[38;5;250m \u001B[39m\u001B[34;01mtorch\u001B[39;00m\u001B[34;01m.\u001B[39;00m\u001B[34;01mutils\u001B[39;00m\u001B[34;01m.\u001B[39;00m\u001B[34;01mdata\u001B[39;00m\u001B[38;5;250m \u001B[39m\u001B[38;5;28;01mimport\u001B[39;00m DataLoader\n\u001B[32m     17\u001B[39m \u001B[38;5;66;03m#from torchtext.datasets import AG_NEWS\u001B[39;00m\n",
      "\u001B[36mFile \u001B[39m\u001B[32m~\\anaconda3\\envs\\COURSERA_GENAI\\Lib\\site-packages\\torchtext\\__init__.py:18\u001B[39m\n\u001B[32m     15\u001B[39m     _WARN = \u001B[38;5;28;01mFalse\u001B[39;00m\n\u001B[32m     17\u001B[39m \u001B[38;5;66;03m# the following import has to happen first in order to load the torchtext C++ library\u001B[39;00m\n\u001B[32m---> \u001B[39m\u001B[32m18\u001B[39m \u001B[38;5;28;01mfrom\u001B[39;00m\u001B[38;5;250m \u001B[39m\u001B[34;01mtorchtext\u001B[39;00m\u001B[38;5;250m \u001B[39m\u001B[38;5;28;01mimport\u001B[39;00m _extension  \u001B[38;5;66;03m# noqa: F401\u001B[39;00m\n\u001B[32m     20\u001B[39m _TEXT_BUCKET = \u001B[33m\"\u001B[39m\u001B[33mhttps://download.pytorch.org/models/text/\u001B[39m\u001B[33m\"\u001B[39m\n\u001B[32m     22\u001B[39m _CACHE_DIR = os.path.expanduser(os.path.join(_get_torch_home(), \u001B[33m\"\u001B[39m\u001B[33mtext\u001B[39m\u001B[33m\"\u001B[39m))\n",
      "\u001B[36mFile \u001B[39m\u001B[32m~\\anaconda3\\envs\\COURSERA_GENAI\\Lib\\site-packages\\torchtext\\_extension.py:64\u001B[39m\n\u001B[32m     59\u001B[39m     \u001B[38;5;66;03m# This import is for initializing the methods registered via PyBind11\u001B[39;00m\n\u001B[32m     60\u001B[39m     \u001B[38;5;66;03m# This has to happen after the base library is loaded\u001B[39;00m\n\u001B[32m     61\u001B[39m     \u001B[38;5;28;01mfrom\u001B[39;00m\u001B[38;5;250m \u001B[39m\u001B[34;01mtorchtext\u001B[39;00m\u001B[38;5;250m \u001B[39m\u001B[38;5;28;01mimport\u001B[39;00m _torchtext  \u001B[38;5;66;03m# noqa\u001B[39;00m\n\u001B[32m---> \u001B[39m\u001B[32m64\u001B[39m _init_extension()\n",
      "\u001B[36mFile \u001B[39m\u001B[32m~\\anaconda3\\envs\\COURSERA_GENAI\\Lib\\site-packages\\torchtext\\_extension.py:58\u001B[39m, in \u001B[36m_init_extension\u001B[39m\u001B[34m()\u001B[39m\n\u001B[32m     55\u001B[39m \u001B[38;5;28;01mif\u001B[39;00m \u001B[38;5;129;01mnot\u001B[39;00m _mod_utils.is_module_available(\u001B[33m\"\u001B[39m\u001B[33mtorchtext._torchtext\u001B[39m\u001B[33m\"\u001B[39m):\n\u001B[32m     56\u001B[39m     \u001B[38;5;28;01mraise\u001B[39;00m \u001B[38;5;167;01mImportError\u001B[39;00m(\u001B[33m\"\u001B[39m\u001B[33mtorchtext C++ Extension is not found.\u001B[39m\u001B[33m\"\u001B[39m)\n\u001B[32m---> \u001B[39m\u001B[32m58\u001B[39m _load_lib(\u001B[33m\"\u001B[39m\u001B[33mlibtorchtext\u001B[39m\u001B[33m\"\u001B[39m)\n\u001B[32m     59\u001B[39m \u001B[38;5;66;03m# This import is for initializing the methods registered via PyBind11\u001B[39;00m\n\u001B[32m     60\u001B[39m \u001B[38;5;66;03m# This has to happen after the base library is loaded\u001B[39;00m\n\u001B[32m     61\u001B[39m \u001B[38;5;28;01mfrom\u001B[39;00m\u001B[38;5;250m \u001B[39m\u001B[34;01mtorchtext\u001B[39;00m\u001B[38;5;250m \u001B[39m\u001B[38;5;28;01mimport\u001B[39;00m _torchtext\n",
      "\u001B[36mFile \u001B[39m\u001B[32m~\\anaconda3\\envs\\COURSERA_GENAI\\Lib\\site-packages\\torchtext\\_extension.py:50\u001B[39m, in \u001B[36m_load_lib\u001B[39m\u001B[34m(lib)\u001B[39m\n\u001B[32m     48\u001B[39m \u001B[38;5;28;01mif\u001B[39;00m \u001B[38;5;129;01mnot\u001B[39;00m path.exists():\n\u001B[32m     49\u001B[39m     \u001B[38;5;28;01mreturn\u001B[39;00m \u001B[38;5;28;01mFalse\u001B[39;00m\n\u001B[32m---> \u001B[39m\u001B[32m50\u001B[39m torch.ops.load_library(path)\n\u001B[32m     51\u001B[39m \u001B[38;5;28;01mreturn\u001B[39;00m \u001B[38;5;28;01mTrue\u001B[39;00m\n",
      "\u001B[36mFile \u001B[39m\u001B[32m~\\anaconda3\\envs\\COURSERA_GENAI\\Lib\\site-packages\\torch\\_ops.py:1392\u001B[39m, in \u001B[36m_Ops.load_library\u001B[39m\u001B[34m(self, path)\u001B[39m\n\u001B[32m   1387\u001B[39m path = _utils_internal.resolve_library_path(path)\n\u001B[32m   1388\u001B[39m \u001B[38;5;28;01mwith\u001B[39;00m dl_open_guard():\n\u001B[32m   1389\u001B[39m     \u001B[38;5;66;03m# Import the shared library into the process, thus running its\u001B[39;00m\n\u001B[32m   1390\u001B[39m     \u001B[38;5;66;03m# static (global) initialization code in order to register custom\u001B[39;00m\n\u001B[32m   1391\u001B[39m     \u001B[38;5;66;03m# operators with the JIT.\u001B[39;00m\n\u001B[32m-> \u001B[39m\u001B[32m1392\u001B[39m     ctypes.CDLL(path)\n\u001B[32m   1393\u001B[39m \u001B[38;5;28mself\u001B[39m.loaded_libraries.add(path)\n",
      "\u001B[36mFile \u001B[39m\u001B[32m~\\anaconda3\\envs\\COURSERA_GENAI\\Lib\\ctypes\\__init__.py:376\u001B[39m, in \u001B[36mCDLL.__init__\u001B[39m\u001B[34m(self, name, mode, handle, use_errno, use_last_error, winmode)\u001B[39m\n\u001B[32m    373\u001B[39m \u001B[38;5;28mself\u001B[39m._FuncPtr = _FuncPtr\n\u001B[32m    375\u001B[39m \u001B[38;5;28;01mif\u001B[39;00m handle \u001B[38;5;129;01mis\u001B[39;00m \u001B[38;5;28;01mNone\u001B[39;00m:\n\u001B[32m--> \u001B[39m\u001B[32m376\u001B[39m     \u001B[38;5;28mself\u001B[39m._handle = _dlopen(\u001B[38;5;28mself\u001B[39m._name, mode)\n\u001B[32m    377\u001B[39m \u001B[38;5;28;01melse\u001B[39;00m:\n\u001B[32m    378\u001B[39m     \u001B[38;5;28mself\u001B[39m._handle = handle\n",
      "\u001B[31mOSError\u001B[39m: [WinError 127] The specified procedure could not be found"
     ]
    }
   ],
   "execution_count": 1
  },
  {
   "metadata": {
    "ExecuteTime": {
     "end_time": "2025-07-10T08:52:07.478527Z",
     "start_time": "2025-07-10T08:52:07.466931Z"
    }
   },
   "cell_type": "code",
   "source": [
    "#import torchtext\n",
    "import torch\n",
    "\n",
    "print(f\"PyTorch version: {torch.__version__}\")\n",
    "#print(f\"TorchText version: {torchtext.__version__}\")"
   ],
   "outputs": [
    {
     "name": "stdout",
     "output_type": "stream",
     "text": [
      "PyTorch version: 2.7.1+cu126\n"
     ]
    }
   ],
   "execution_count": 4
  },
  {
   "metadata": {
    "ExecuteTime": {
     "end_time": "2025-07-08T05:10:56.185270Z",
     "start_time": "2025-07-08T05:10:56.103941Z"
    }
   },
   "cell_type": "code",
   "source": "import torchtext",
   "outputs": [
    {
     "ename": "OSError",
     "evalue": "[WinError 127] The specified procedure could not be found",
     "output_type": "error",
     "traceback": [
      "\u001B[31m---------------------------------------------------------------------------\u001B[39m",
      "\u001B[31mOSError\u001B[39m                                   Traceback (most recent call last)",
      "\u001B[36mCell\u001B[39m\u001B[36m \u001B[39m\u001B[32mIn[11]\u001B[39m\u001B[32m, line 1\u001B[39m\n\u001B[32m----> \u001B[39m\u001B[32m1\u001B[39m \u001B[38;5;28;01mimport\u001B[39;00m\u001B[38;5;250m \u001B[39m\u001B[34;01mtorchtext\u001B[39;00m\n",
      "\u001B[36mFile \u001B[39m\u001B[32m~\\anaconda3\\envs\\COURSERA_GENAI\\Lib\\site-packages\\torchtext\\__init__.py:18\u001B[39m\n\u001B[32m     15\u001B[39m     _WARN = \u001B[38;5;28;01mFalse\u001B[39;00m\n\u001B[32m     17\u001B[39m \u001B[38;5;66;03m# the following import has to happen first in order to load the torchtext C++ library\u001B[39;00m\n\u001B[32m---> \u001B[39m\u001B[32m18\u001B[39m \u001B[38;5;28;01mfrom\u001B[39;00m\u001B[38;5;250m \u001B[39m\u001B[34;01mtorchtext\u001B[39;00m\u001B[38;5;250m \u001B[39m\u001B[38;5;28;01mimport\u001B[39;00m _extension  \u001B[38;5;66;03m# noqa: F401\u001B[39;00m\n\u001B[32m     20\u001B[39m _TEXT_BUCKET = \u001B[33m\"\u001B[39m\u001B[33mhttps://download.pytorch.org/models/text/\u001B[39m\u001B[33m\"\u001B[39m\n\u001B[32m     22\u001B[39m _CACHE_DIR = os.path.expanduser(os.path.join(_get_torch_home(), \u001B[33m\"\u001B[39m\u001B[33mtext\u001B[39m\u001B[33m\"\u001B[39m))\n",
      "\u001B[36mFile \u001B[39m\u001B[32m~\\anaconda3\\envs\\COURSERA_GENAI\\Lib\\site-packages\\torchtext\\_extension.py:64\u001B[39m\n\u001B[32m     59\u001B[39m     \u001B[38;5;66;03m# This import is for initializing the methods registered via PyBind11\u001B[39;00m\n\u001B[32m     60\u001B[39m     \u001B[38;5;66;03m# This has to happen after the base library is loaded\u001B[39;00m\n\u001B[32m     61\u001B[39m     \u001B[38;5;28;01mfrom\u001B[39;00m\u001B[38;5;250m \u001B[39m\u001B[34;01mtorchtext\u001B[39;00m\u001B[38;5;250m \u001B[39m\u001B[38;5;28;01mimport\u001B[39;00m _torchtext  \u001B[38;5;66;03m# noqa\u001B[39;00m\n\u001B[32m---> \u001B[39m\u001B[32m64\u001B[39m _init_extension()\n",
      "\u001B[36mFile \u001B[39m\u001B[32m~\\anaconda3\\envs\\COURSERA_GENAI\\Lib\\site-packages\\torchtext\\_extension.py:58\u001B[39m, in \u001B[36m_init_extension\u001B[39m\u001B[34m()\u001B[39m\n\u001B[32m     55\u001B[39m \u001B[38;5;28;01mif\u001B[39;00m \u001B[38;5;129;01mnot\u001B[39;00m _mod_utils.is_module_available(\u001B[33m\"\u001B[39m\u001B[33mtorchtext._torchtext\u001B[39m\u001B[33m\"\u001B[39m):\n\u001B[32m     56\u001B[39m     \u001B[38;5;28;01mraise\u001B[39;00m \u001B[38;5;167;01mImportError\u001B[39;00m(\u001B[33m\"\u001B[39m\u001B[33mtorchtext C++ Extension is not found.\u001B[39m\u001B[33m\"\u001B[39m)\n\u001B[32m---> \u001B[39m\u001B[32m58\u001B[39m _load_lib(\u001B[33m\"\u001B[39m\u001B[33mlibtorchtext\u001B[39m\u001B[33m\"\u001B[39m)\n\u001B[32m     59\u001B[39m \u001B[38;5;66;03m# This import is for initializing the methods registered via PyBind11\u001B[39;00m\n\u001B[32m     60\u001B[39m \u001B[38;5;66;03m# This has to happen after the base library is loaded\u001B[39;00m\n\u001B[32m     61\u001B[39m \u001B[38;5;28;01mfrom\u001B[39;00m\u001B[38;5;250m \u001B[39m\u001B[34;01mtorchtext\u001B[39;00m\u001B[38;5;250m \u001B[39m\u001B[38;5;28;01mimport\u001B[39;00m _torchtext\n",
      "\u001B[36mFile \u001B[39m\u001B[32m~\\anaconda3\\envs\\COURSERA_GENAI\\Lib\\site-packages\\torchtext\\_extension.py:50\u001B[39m, in \u001B[36m_load_lib\u001B[39m\u001B[34m(lib)\u001B[39m\n\u001B[32m     48\u001B[39m \u001B[38;5;28;01mif\u001B[39;00m \u001B[38;5;129;01mnot\u001B[39;00m path.exists():\n\u001B[32m     49\u001B[39m     \u001B[38;5;28;01mreturn\u001B[39;00m \u001B[38;5;28;01mFalse\u001B[39;00m\n\u001B[32m---> \u001B[39m\u001B[32m50\u001B[39m torch.ops.load_library(path)\n\u001B[32m     51\u001B[39m \u001B[38;5;28;01mreturn\u001B[39;00m \u001B[38;5;28;01mTrue\u001B[39;00m\n",
      "\u001B[36mFile \u001B[39m\u001B[32m~\\anaconda3\\envs\\COURSERA_GENAI\\Lib\\site-packages\\torch\\_ops.py:1392\u001B[39m, in \u001B[36m_Ops.load_library\u001B[39m\u001B[34m(self, path)\u001B[39m\n\u001B[32m   1387\u001B[39m path = _utils_internal.resolve_library_path(path)\n\u001B[32m   1388\u001B[39m \u001B[38;5;28;01mwith\u001B[39;00m dl_open_guard():\n\u001B[32m   1389\u001B[39m     \u001B[38;5;66;03m# Import the shared library into the process, thus running its\u001B[39;00m\n\u001B[32m   1390\u001B[39m     \u001B[38;5;66;03m# static (global) initialization code in order to register custom\u001B[39;00m\n\u001B[32m   1391\u001B[39m     \u001B[38;5;66;03m# operators with the JIT.\u001B[39;00m\n\u001B[32m-> \u001B[39m\u001B[32m1392\u001B[39m     ctypes.CDLL(path)\n\u001B[32m   1393\u001B[39m \u001B[38;5;28mself\u001B[39m.loaded_libraries.add(path)\n",
      "\u001B[36mFile \u001B[39m\u001B[32m~\\anaconda3\\envs\\COURSERA_GENAI\\Lib\\ctypes\\__init__.py:376\u001B[39m, in \u001B[36mCDLL.__init__\u001B[39m\u001B[34m(self, name, mode, handle, use_errno, use_last_error, winmode)\u001B[39m\n\u001B[32m    373\u001B[39m \u001B[38;5;28mself\u001B[39m._FuncPtr = _FuncPtr\n\u001B[32m    375\u001B[39m \u001B[38;5;28;01mif\u001B[39;00m handle \u001B[38;5;129;01mis\u001B[39;00m \u001B[38;5;28;01mNone\u001B[39;00m:\n\u001B[32m--> \u001B[39m\u001B[32m376\u001B[39m     \u001B[38;5;28mself\u001B[39m._handle = _dlopen(\u001B[38;5;28mself\u001B[39m._name, mode)\n\u001B[32m    377\u001B[39m \u001B[38;5;28;01melse\u001B[39;00m:\n\u001B[32m    378\u001B[39m     \u001B[38;5;28mself\u001B[39m._handle = handle\n",
      "\u001B[31mOSError\u001B[39m: [WinError 127] The specified procedure could not be found"
     ]
    }
   ],
   "execution_count": 11
  },
  {
   "cell_type": "markdown",
   "metadata": {},
   "source": [
    "### Define helper functions\n",
    "\n",
    "The following are some helper functions to help with plotting, saving, and loading files. These functions are not the main focus of this lab, so you do not have to dwell on these too long. However, do run the cells in this section to define these helper functions.\n"
   ]
  },
  {
   "cell_type": "code",
   "metadata": {},
   "outputs": [],
   "source": [
    "def plot(COST,ACC):\n\n    fig, ax1 = plt.subplots()\n    color = 'tab:red'\n    ax1.plot(COST, color=color)\n    ax1.set_xlabel('epoch', color=color)\n    ax1.set_ylabel('total loss', color=color)\n    ax1.tick_params(axis='y', color=color)\n\n    ax2 = ax1.twinx()\n    color = 'tab:blue'\n    ax2.set_ylabel('accuracy', color=color)  # you already handled the x-label with ax1\n    ax2.plot(ACC, color=color)\n    ax2.tick_params(axis='y', color=color)\n    fig.tight_layout()  # otherwise the right y-label is slightly clipped\n\n    plt.show()"
   ],
   "execution_count": null
  },
  {
   "cell_type": "code",
   "metadata": {},
   "outputs": [],
   "source": [
    "def save_list_to_file(lst, filename):\n    \"\"\"\n    Save a list to a file using pickle serialization.\n\n    Parameters:\n        lst (list): The list to be saved.\n        filename (str): The name of the file to save the list to.\n\n    Returns:\n        None\n    \"\"\"\n    with open(filename, 'wb') as file:\n        pickle.dump(lst, file)\n\ndef load_list_from_file(filename):\n    \"\"\"\n    Load a list from a file using pickle deserialization.\n\n    Parameters:\n        filename (str): The name of the file to load the list from.\n\n    Returns:\n        list: The loaded list.\n    \"\"\"\n    with open(filename, 'rb') as file:\n        loaded_list = pickle.load(file)\n    return loaded_list"
   ],
   "execution_count": null
  },
  {
   "cell_type": "markdown",
   "metadata": {},
   "source": [
    "---\n"
   ]
  },
  {
   "cell_type": "markdown",
   "metadata": {},
   "source": [
    "# Positional encodings\n",
    "\n",
    "Positional encodings play a pivotal role in transformers and various sequence-to-sequence models, aiding in conveying critical information regarding the positions or sequencing of elements within a given sequence. To illustrate, let's examine the sentences: \"He painted the car red\" and \"He painted the red car.\" Despite their distinct meanings, it's worth noting that the embeddings for these sentences remain identical in the absence of positional encodings. The following class defines positional encodings by inheriting from PyTorch's `Module` class.\n"
   ]
  },
  {
   "cell_type": "code",
   "metadata": {},
   "outputs": [],
   "source": [
    "class PositionalEncoding(nn.Module):\n    \"\"\"\n    https://pytorch.org/tutorials/beginner/transformer_tutorial.html\n    \"\"\"\n\n    def __init__(self, d_model, vocab_size=5000, dropout=0.1):\n        super().__init__()\n        self.dropout = nn.Dropout(p=dropout)\n\n        pe = torch.zeros(vocab_size, d_model)\n        position = torch.arange(0, vocab_size, dtype=torch.float).unsqueeze(1)\n        div_term = torch.exp(\n            torch.arange(0, d_model, 2).float()\n            * (-math.log(10000.0) / d_model)\n        )\n        pe[:, 0::2] = torch.sin(position * div_term)\n        pe[:, 1::2] = torch.cos(position * div_term)\n        pe = pe.unsqueeze(0)\n        self.register_buffer(\"pe\", pe)\n\n    def forward(self, x):\n        x = x + self.pe[:, : x.size(1), :]\n        return self.dropout(x)"
   ],
   "execution_count": null
  },
  {
   "cell_type": "markdown",
   "metadata": {},
   "source": [
    "# Import IMDB dataset\n"
   ]
  },
  {
   "cell_type": "markdown",
   "metadata": {},
   "source": [
    "The following code loads the IMDB dataset.\n"
   ]
  },
  {
   "cell_type": "code",
   "metadata": {},
   "outputs": [],
   "source": [
    "urlopened = urlopen('https://cf-courses-data.s3.us.cloud-object-storage.appdomain.cloud/35t-FeC-2uN1ozOwPs7wFg.gz')\ntar = tarfile.open(fileobj=io.BytesIO(urlopened.read()))\ntempdir = tempfile.TemporaryDirectory()\ntar.extractall(tempdir.name)\ntar.close()"
   ],
   "execution_count": null
  },
  {
   "cell_type": "markdown",
   "metadata": {},
   "source": [
    "## IMDB dataset overview\n",
    "\n",
    "The **IMDB dataset** contains movie reviews from the Internet Movie Database (IMDB) and is commonly used for binary sentiment classification tasks. It's a popular dataset for training and testing models in natural language processing (NLP), particularly in the context of sentiment analysis.\n",
    "\n",
    "### Dataset composition\n",
    "\n",
    "- **Reviews**: The dataset consists of 50,000 movie reviews, divided evenly into 25,000 training and 25,000 testing samples.\n",
    "- **Sentiment labels**: Each review is labeled as either positive or negative, indicating the sentiment expressed in the review. The dataset is balanced, with an equal number of positive and negative reviews in both the training and testing sets.\n",
    "- **Text content**: Reviews are presented as plain text and have been preprocessed to some extent. For example, HTML tags are removed, but the text retains its original punctuation and capitalization.\n",
    "- **Usage**: The dataset is commonly used to train models for binary sentiment classification, where the goal is to predict whether a given review is positive or negative based on its text content.\n",
    "\n",
    "### Applications\n",
    "\n",
    "- **Sentiment analysis**: The primary application of the IMDB dataset is in sentiment analysis, where it serves as a benchmark for various text classification algorithms.\n",
    "- **Natural language processing (NLP)**: The dataset is widely used in NLP research and applications, providing a basis for testing the effectiveness of different models and approaches in understanding human language.\n",
    "\n",
    "### Challenges\n",
    "\n",
    "The dataset is small, so it's hard to train a model from scratch.\n",
    "\n",
    "The following class is defined to traverse the IMDB dataset. The need to define this class arises from the fact that the IMDB dataset is split across a large number of files.\n"
   ]
  },
  {
   "cell_type": "code",
   "metadata": {},
   "outputs": [],
   "source": [
    "class IMDBDataset(Dataset):\n    def __init__(self, root_dir, train=True):\n        \"\"\"\n        root_dir: The base directory of the IMDB dataset.\n        train: A boolean flag indicating whether to use training or test data.\n        \"\"\"\n        self.root_dir = os.path.join(root_dir, \"train\" if train else \"test\")\n        self.neg_files = [os.path.join(self.root_dir, \"neg\", f) for f in os.listdir(os.path.join(self.root_dir, \"neg\")) if f.endswith('.txt')]\n        self.pos_files = [os.path.join(self.root_dir, \"pos\", f) for f in os.listdir(os.path.join(self.root_dir, \"pos\")) if f.endswith('.txt')]\n        self.files = self.neg_files + self.pos_files\n        self.labels = [0] * len(self.neg_files) + [1] * len(self.pos_files)\n        self.pos_inx=len(self.pos_files)\n\n    def __len__(self):\n        return len(self.files)\n\n    def __getitem__(self, idx):\n        file_path = self.files[idx]\n        label = self.labels[idx]\n        with open(file_path, 'r', encoding='utf-8') as file:\n            content = file.read()\n        return label, content"
   ],
   "execution_count": null
  },
  {
   "cell_type": "markdown",
   "metadata": {},
   "source": [
    "The following code uses the `IMDBDataset` class previously defined to create iterators for the train and test datasets. In the latter part of the cell, you can return 20 examples from the train set.\n"
   ]
  },
  {
   "cell_type": "code",
   "metadata": {},
   "outputs": [],
   "source": [
    "root_dir = tempdir.name + '/' + 'imdb_dataset'\ntrain_iter = IMDBDataset(root_dir=root_dir, train=True)  # For training data\ntest_iter = IMDBDataset(root_dir=root_dir, train=False)  # For test data\n\nstart=train_iter.pos_inx\nfor i in range(-10,10):\n    print(train_iter[start+i])"
   ],
   "execution_count": null
  },
  {
   "cell_type": "markdown",
   "metadata": {},
   "source": [
    "The following code defines the mapping of numeric labels to positive and negative reviews.\n"
   ]
  },
  {
   "cell_type": "code",
   "metadata": {},
   "outputs": [],
   "source": [
    "imdb_label = {0: \" negative review\", 1: \"positive review\"}\n"
   ],
   "execution_count": null
  },
  {
   "cell_type": "markdown",
   "metadata": {},
   "source": [
    "The following code checks to ensure that there are exactly two classes in the train dataset.\n"
   ]
  },
  {
   "cell_type": "code",
   "metadata": {},
   "outputs": [],
   "source": [
    "num_class = len(set([label for (label, text) in train_iter]))\nnum_class"
   ],
   "execution_count": null
  },
  {
   "cell_type": "markdown",
   "metadata": {},
   "source": [
    "The following code loads a basic English tokenizer and defines a function called ```yield_tokens``` that uses the tokenizer to break down text data yielded by an iterator into tokens.\n"
   ]
  },
  {
   "cell_type": "code",
   "metadata": {},
   "outputs": [],
   "source": [
    "tokenizer = get_tokenizer(\"basic_english\")\ndef yield_tokens(data_iter):\n    \"\"\"Yield tokens for each data sample.\"\"\"\n    for _, text in data_iter:\n        yield tokenizer(text)"
   ],
   "execution_count": null
  },
  {
   "cell_type": "markdown",
   "metadata": {},
   "source": [
    " The following code loads a pretrained word embedding model called GloVe into a variable called `glove_embedding`.\n"
   ]
  },
  {
   "cell_type": "code",
   "metadata": {},
   "outputs": [],
   "source": [
    "\n# Note that GloVe embeddings are typically downloaded using:\n#glove_embedding = GloVe(name=\"6B\", dim=100)\n# However, the GloVe server is frequently down. The code below offers a workaround\n\n\nclass GloVe_override(Vectors):\n    url = {\n        \"6B\": \"https://cf-courses-data.s3.us.cloud-object-storage.appdomain.cloud/tQdezXocAJMBMPfUJx_iUg/glove-6B.zip\",\n    }\n\n    def __init__(self, name=\"6B\", dim=100, **kwargs) -> None:\n        url = self.url[name]\n        name = \"glove.{}.{}d.txt\".format(name, str(dim))\n        #name = \"glove.{}/glove.{}.{}d.txt\".format(name, name, str(dim))\n        super(GloVe_override, self).__init__(name, url=url, **kwargs)\n\nclass GloVe_override2(Vectors):\n    url = {\n        \"6B\": \"https://cf-courses-data.s3.us.cloud-object-storage.appdomain.cloud/tQdezXocAJMBMPfUJx_iUg/glove-6B.zip\",\n    }\n\n    def __init__(self, name=\"6B\", dim=100, **kwargs) -> None:\n        url = self.url[name]\n        #name = \"glove.{}.{}d.txt\".format(name, str(dim))\n        name = \"glove.{}/glove.{}.{}d.txt\".format(name, name, str(dim))\n        super(GloVe_override2, self).__init__(name, url=url, **kwargs)\n\ntry:\n    glove_embedding = GloVe_override(name=\"6B\", dim=100)\nexcept:\n    try:\n        glove_embedding = GloVe_override2(name=\"6B\", dim=100)\n    except:\n        glove_embedding = GloVe(name=\"6B\", dim=100)"
   ],
   "execution_count": null
  },
  {
   "cell_type": "markdown",
   "metadata": {},
   "source": [
    "The following code builds a vocabulary object from a pretrained GloVe word embedding model and sets the default index to the <unk> token.\n"
   ]
  },
  {
   "cell_type": "code",
   "metadata": {},
   "outputs": [],
   "source": [
    "from torchtext.vocab import GloVe,vocab\n# Build vocab from glove_vectors\nvocab = vocab(glove_embedding .stoi, 0,specials=('<unk>', '<pad>'))\nvocab.set_default_index(vocab[\"<unk>\"])"
   ],
   "execution_count": null
  },
  {
   "cell_type": "markdown",
   "metadata": {},
   "source": [
    "Let's count the number of words in the vocab:\n"
   ]
  },
  {
   "cell_type": "code",
   "metadata": {},
   "outputs": [],
   "source": [
    "vocab_size=len(vocab)\nvocab_size"
   ],
   "execution_count": null
  },
  {
   "cell_type": "markdown",
   "metadata": {},
   "source": [
    "Let's test the ```vocab``` function:\n"
   ]
  },
  {
   "cell_type": "code",
   "metadata": {},
   "outputs": [],
   "source": [
    "vocab(['he'])"
   ],
   "execution_count": null
  },
  {
   "cell_type": "markdown",
   "metadata": {},
   "source": [
    "### Dataset splits\n"
   ]
  },
  {
   "cell_type": "markdown",
   "metadata": {},
   "source": [
    "The following converts the dataset into map-style datasets and then performs a random split to create separate training and validation datasets. The training dataset will contain 95% of the samples in the original training set, while the validation dataset will contain the remaining 5%. These datasets can be used for training and evaluating a machine learning model for text classification on the IMDB dataset. The final performance of the model will be evaluated on the hold-out test set.\n"
   ]
  },
  {
   "cell_type": "code",
   "metadata": {},
   "outputs": [],
   "source": [
    "# Convert the training and testing iterators to map-style datasets.\ntrain_dataset = to_map_style_dataset(train_iter)\ntest_dataset = to_map_style_dataset(test_iter)\n\n# Determine the number of samples to be used for training and validation (5% for validation).\nnum_train = int(len(train_dataset) * 0.95)\n\n# Randomly split the training dataset into training and validation datasets using `random_split`.\n# The training dataset will contain 95% of the samples, and the validation dataset will contain the remaining 5%.\nsplit_train_, split_valid_ = random_split(train_dataset, [num_train, len(train_dataset) - num_train])"
   ],
   "execution_count": null
  },
  {
   "cell_type": "markdown",
   "metadata": {},
   "source": [
    "Be aware that the Skills Network currently does not offer GPU access to learners. As a result, training on the full dataset could be time-consuming. To address this, you further reduce the size of the training set. This approach helps you mimic the training process as if a GPU were available. However, if you want to train using the full IMDB dataset, you must either comment out or remove the two lines in the upcoming code block.\n"
   ]
  },
  {
   "cell_type": "code",
   "metadata": {},
   "outputs": [],
   "source": [
    "num_train = int(len(train_dataset) * 0.05)\nsplit_train_, _ = random_split(split_train_, [num_train, len(split_train_) - num_train])"
   ],
   "execution_count": null
  },
  {
   "cell_type": "markdown",
   "metadata": {},
   "source": [
    "The following code checks to see if a CUDA-compatible GPU is available in the system using PyTorch, a popular deep learning framework. If a GPU is available, it assigns the device variable to \"cuda\" (which stands for CUDA, the parallel computing platform and application programming interface model developed by NVIDIA). If a GPU is not available, it assigns the device variable to \"cpu\" (which means the code will run on the CPU instead).\n"
   ]
  },
  {
   "cell_type": "code",
   "metadata": {},
   "outputs": [],
   "source": [
    "device = torch.device(\"cuda\" if torch.cuda.is_available() else \"cpu\")\ndevice"
   ],
   "execution_count": null
  },
  {
   "cell_type": "markdown",
   "metadata": {},
   "source": [
    "### Data loader\n"
   ]
  },
  {
   "cell_type": "markdown",
   "metadata": {},
   "source": [
    "The following code prepares the text processing pipeline with the tokenizer and vocabulary. The text pipeline is used to process the raw data strings from the dataset iterators.\n",
    "\n",
    "The function **```text_pipeline```** first tokenizes the input text, then **```vocab```** is applied to get the token indices.\n"
   ]
  },
  {
   "cell_type": "code",
   "metadata": {},
   "outputs": [],
   "source": [
    "def text_pipeline(x):\n    return vocab(tokenizer(x))"
   ],
   "execution_count": null
  },
  {
   "cell_type": "markdown",
   "metadata": {},
   "source": [
    "In PyTorch, the **`collate_fn`** function is used in conjunction with data loaders to customize the way batches are created from individual samples. The provided code defines a `collate_batch` function in PyTorch, which is used with data loaders to customize batch creation from individual samples. It processes a batch of data, including labels and text sequences. It applies the `text_pipeline` function to preprocess the text. The processed data is then converted into PyTorch tensors and returned as a tuple containing the label tensor, text tensor, and offsets tensor representing the starting positions of each text sequence in the combined tensor. The function also ensures that the returned tensors are moved to the specified device (for example, GPU) for efficient computation.\n"
   ]
  },
  {
   "cell_type": "code",
   "metadata": {},
   "outputs": [],
   "source": [
    "from torch.nn.utils.rnn import pad_sequence\n\ndef collate_batch(batch):\n    label_list, text_list = [], []\n    for _label, _text in batch:\n\n        label_list.append(_label)\n        text_list.append(torch.tensor(text_pipeline(_text), dtype=torch.int64))\n\n    label_list = torch.tensor(label_list, dtype=torch.int64)\n    text_list = pad_sequence(text_list, batch_first=True)\n\n    return label_list.to(device), text_list.to(device)"
   ],
   "execution_count": null
  },
  {
   "cell_type": "markdown",
   "metadata": {},
   "source": [
    "You can convert the dataset objects to data loaders by applying the `collate` function.\n"
   ]
  },
  {
   "cell_type": "code",
   "metadata": {},
   "outputs": [],
   "source": [
    "BATCH_SIZE = 32\n\ntrain_dataloader = DataLoader(\n    split_train_, batch_size=BATCH_SIZE, shuffle=True, collate_fn=collate_batch\n)\nvalid_dataloader = DataLoader(\n    split_valid_, batch_size=BATCH_SIZE, shuffle=True, collate_fn=collate_batch\n)\ntest_dataloader = DataLoader(\n    test_dataset, batch_size=BATCH_SIZE, shuffle=True, collate_fn=collate_batch\n)"
   ],
   "execution_count": null
  },
  {
   "cell_type": "markdown",
   "metadata": {},
   "source": [
    "Let's check to see what these data loaders generate.\n"
   ]
  },
  {
   "cell_type": "code",
   "metadata": {},
   "outputs": [],
   "source": [
    "label,seqence=next(iter(valid_dataloader))\nlabel,seqence"
   ],
   "execution_count": null
  },
  {
   "cell_type": "markdown",
   "metadata": {},
   "source": [
    "### \n",
    "Neural network\n"
   ]
  },
  {
   "cell_type": "markdown",
   "metadata": {},
   "source": [
    "This code defines a class called Net that represents a text classifier based on a PyTorch TransformerEncoder.\n",
    "The constructor takes the following arguments:\n",
    "\n",
    "- `num_class`: The number of classes to classify\n",
    "- `vocab_size`: The size of the vocabulary\n",
    "- `freeze`: Whether to freeze the embedding layer\n",
    "- `nhead`: The number of heads in the transformer encoder\n",
    "- `dim_feedforward`: The dimension of the feedforward layer in the transformer encoder\n",
    "- `num_layers`: The number of transformer encoder layers\n",
    "- `dropout`: The dropout rate\n",
    "- `activation`: The activation function to use in the transformer encoder\n",
    "- `classifier_dropout`: The dropout rate for the classifier\n",
    "\n",
    "**Attributes:**\n",
    "\n",
    "- `emb`: An embedding layer that maps each word in the vocabulary to a dense vector representation\n",
    "- `pos_encoder`: A positional encoding layer that adds positional information to the word vectors\n",
    "- `transformer_encoder`: A transformer encoder layer that processes the sequence of word vectors and extracts high-level features\n",
    "- `classifier`: A linear layer that maps the output of the transformer encoder to the desired number of classes\n",
    "\n",
    "---\n",
    "\n",
    "\n"
   ]
  },
  {
   "cell_type": "code",
   "metadata": {},
   "outputs": [],
   "source": [
    "class Net(nn.Module):\n    \"\"\"\n    Text classifier based on a pytorch TransformerEncoder.\n    \"\"\"\n    def __init__(\n\n        self,\n        num_class,vocab_size,\n        freeze=True,\n        nhead=2,\n        dim_feedforward=128,\n        num_layers=2,\n        dropout=0.1,\n        activation=\"relu\",\n        classifier_dropout=0.1):\n\n        super().__init__()\n\n        #self.emb = embedding=nn.Embedding.from_pretrained(glove_embedding.vectors,freeze=freeze)\n        self.emb = nn.Embedding.from_pretrained(glove_embedding.vectors,freeze=freeze)\n        embedding_dim = self.emb.embedding_dim\n\n\n        self.pos_encoder = PositionalEncoding(\n            d_model=embedding_dim,\n            dropout=dropout,\n            vocab_size=vocab_size,\n        )\n\n        encoder_layer = nn.TransformerEncoderLayer(\n            d_model=embedding_dim,\n            nhead=nhead,\n            dim_feedforward=dim_feedforward,\n            dropout=dropout,\n        )\n        self.transformer_encoder = nn.TransformerEncoder(\n            encoder_layer,\n            num_layers=num_layers,\n        )\n        self.classifier = nn.Linear(embedding_dim, num_class)\n        self.d_model = embedding_dim\n\n    def forward(self, x):\n        x = self.emb(x) * math.sqrt(self.d_model)\n        x = self.pos_encoder(x)\n        x = self.transformer_encoder(x)\n        x = x.mean(dim=1)\n        x = self.classifier(x)\n\n        return x"
   ],
   "execution_count": null
  },
  {
   "cell_type": "markdown",
   "metadata": {},
   "source": [
    "The model can then be trained on labeled data from the IMDB dataset with two classes.\n"
   ]
  },
  {
   "cell_type": "markdown",
   "metadata": {},
   "source": [
    "Let's create the model.\n"
   ]
  },
  {
   "cell_type": "code",
   "metadata": {},
   "outputs": [],
   "source": [
    "device = torch.device(\"cuda\" if torch.cuda.is_available() else \"cpu\")\nmodel = Net(num_class=2,vocab_size=vocab_size).to(device)\nmodel"
   ],
   "execution_count": null
  },
  {
   "cell_type": "markdown",
   "metadata": {},
   "source": [
    "The following **`predict`** function takes in a text, a text pipeline, and a model as inputs. It uses a pretrained model passed as a parameter to predict the label of the text for text classification on the IMDB dataset.\n"
   ]
  },
  {
   "cell_type": "code",
   "metadata": {},
   "outputs": [],
   "source": [
    "def predict(text, text_pipeline, model):\n    with torch.no_grad():\n        text = torch.unsqueeze(torch.tensor(text_pipeline(text)),0).to(device)\n        model.to(device)\n        output = model(text)\n        return imdb_label[output.argmax(1).item()]"
   ],
   "execution_count": null
  },
  {
   "cell_type": "code",
   "metadata": {},
   "outputs": [],
   "source": [
    "predict(\"I like sports and stuff\", text_pipeline, model)"
   ],
   "execution_count": null
  },
  {
   "cell_type": "markdown",
   "metadata": {},
   "source": [
    "You can create a function to evaluate the model's accuracy on a dataset. Here, you define two nearly identical evaluation functions, one that provides a `tqdm` progress bar, and one that does not.\n"
   ]
  },
  {
   "cell_type": "code",
   "metadata": {},
   "outputs": [],
   "source": [
    "def evaluate(dataloader, model_eval):\n    model_eval.eval()\n    total_acc, total_count= 0, 0\n\n    with torch.no_grad():\n        for label, text in tqdm(dataloader):\n            label, text = label.to(device), text.to(device)\n            output = model_eval(text)\n            predicted = torch.max(output.data, 1)[1]\n            total_acc += (predicted == label).sum().item()\n            total_count += label.size(0)\n    return total_acc / total_count"
   ],
   "execution_count": null
  },
  {
   "cell_type": "code",
   "metadata": {},
   "outputs": [],
   "source": [
    "def evaluate_no_tqdm(dataloader, model_eval):\n    model_eval.eval()\n    total_acc, total_count= 0, 0\n\n    with torch.no_grad():\n        for label, text in dataloader:\n            label, text = label.to(device), text.to(device)\n            output = model_eval(text)\n            predicted = torch.max(output.data, 1)[1]\n            total_acc += (predicted == label).sum().item()\n            total_count += label.size(0)\n    return total_acc / total_count"
   ],
   "execution_count": null
  },
  {
   "cell_type": "markdown",
   "metadata": {},
   "source": [
    "The following code evaluates the performance of your model. Note that this can take approximately 4 minutes on a CPU.\n"
   ]
  },
  {
   "cell_type": "code",
   "metadata": {},
   "outputs": [],
   "source": [
    "evaluate(test_dataloader, model)"
   ],
   "execution_count": null
  },
  {
   "cell_type": "markdown",
   "metadata": {},
   "source": [
    "Note that the current performance of the model is no better than average. This outcome is expected, considering that the model has not undergone any training yet.\n"
   ]
  },
  {
   "cell_type": "markdown",
   "metadata": {},
   "source": [
    "---\n"
   ]
  },
  {
   "cell_type": "markdown",
   "metadata": {},
   "source": [
    "# Training\n"
   ]
  },
  {
   "cell_type": "markdown",
   "metadata": {},
   "source": [
    "The following code defines the training function used to train your model.\n"
   ]
  },
  {
   "cell_type": "code",
   "metadata": {},
   "outputs": [],
   "source": [
    "def train_model(model, optimizer, criterion, train_dataloader, valid_dataloader,  epochs=1000, save_dir=\"\", file_name=None):\n    cum_loss_list = []\n    acc_epoch = []\n    acc_old = 0\n    model_path = os.path.join(save_dir, file_name)\n    acc_dir = os.path.join(save_dir, os.path.splitext(file_name)[0] + \"_acc\")\n    loss_dir = os.path.join(save_dir, os.path.splitext(file_name)[0] + \"_loss\")\n    time_start = time.time()\n\n    for epoch in tqdm(range(1, epochs + 1)):\n        model.train()\n        #print(model)\n        #for parm in model.parameters():\n        #    print(parm.requires_grad)\n        \n        cum_loss = 0\n        for idx, (label, text) in enumerate(train_dataloader):\n            optimizer.zero_grad()\n            label, text = label.to(device), text.to(device)\n\n            predicted_label = model(text)\n            loss = criterion(predicted_label, label)\n            loss.backward()\n            #print(loss)\n            torch.nn.utils.clip_grad_norm_(model.parameters(), 0.1)\n            optimizer.step()\n            cum_loss += loss.item()\n        print(f\"Epoch {epoch}/{epochs} - Loss: {cum_loss}\")\n\n        cum_loss_list.append(cum_loss)\n        accu_val = evaluate_no_tqdm(valid_dataloader,model)\n        acc_epoch.append(accu_val)\n\n        if model_path and accu_val > acc_old:\n            print(accu_val)\n            acc_old = accu_val\n            if save_dir is not None:\n                pass\n                #print(\"save model epoch\",epoch)\n                #torch.save(model.state_dict(), model_path)\n                #save_list_to_file(lst=acc_epoch, filename=acc_dir)\n                #save_list_to_file(lst=cum_loss_list, filename=loss_dir)\n\n    time_end = time.time()\n    print(f\"Training time: {time_end - time_start}\")"
   ],
   "execution_count": null
  },
  {
   "cell_type": "markdown",
   "metadata": {},
   "source": [
    "### Train IMDB\n",
    "\n",
    "The following code sets the learning rate (LR) to 1, which determines the step size at which the optimizer updates the model's parameters during training. The CrossEntropyLoss criterion is used to calculate the loss between the model's predicted outputs and the ground truth labels. This loss function is commonly employed for multiclass classification tasks.\n",
    "\n",
    "The chosen optimizer is Stochastic Gradient Descent (SGD), which optimizes the model's parameters based on the computed gradients with respect to the loss function. The SGD optimizer uses the specified learning rate to control the size of the weight updates.\n",
    "\n",
    "Additionally, a learning rate scheduler is defined using StepLR. This scheduler adjusts the learning rate during training, reducing it by a factor (gamma) of 0.1 after every epoch (step) to improve convergence and fine-tune the model's performance. These components together form the essential setup for training a neural network using the specified learning rate, loss criterion, optimizer, and learning rate scheduler.\n",
    "\n",
    "For the sake of time efficiency, the number of epochs has been set to 2. This is to give you a practical demonstration of what the training process looks like. However, if you were to train this model in a real-world scenario, you would likely increase the number of epochs to a larger figure, such as 100 or more. Given the reduced training set defined earlier, it takes approximately 2 minutes to complete 2 epochs of training.\n"
   ]
  },
  {
   "cell_type": "code",
   "metadata": {},
   "outputs": [],
   "source": [
    "LR=1\ncriterion = torch.nn.CrossEntropyLoss()\noptimizer = torch.optim.SGD(model.parameters(), lr=LR)\nscheduler = torch.optim.lr_scheduler.StepLR(optimizer, 1.0, gamma=0.1)\nsave_dir = \"\"\nfile_name = \"model_IMDB dataset small2.pth\"\ntrain_model(model=model, \n            optimizer=optimizer, \n            criterion=criterion, \n            train_dataloader=train_dataloader, \n            valid_dataloader=valid_dataloader, \n            epochs=2, \n            save_dir=save_dir, \n            file_name=file_name\n           )"
   ],
   "execution_count": null
  },
  {
   "cell_type": "markdown",
   "metadata": {},
   "source": [
    "Naturally, the model you trained earlier with just 2 epochs and a reduced dataset won’t be used. Instead, you’ll use a model that has been pretrained using the same method but on the full dataset and with 100 epochs.\n",
    "\n",
    "The following code plots the cost and validation data accuracy for each epoch of the pretrained model up to and including the epoch that yielded the highest accuracy. As you can see, the pretrained model achieved an accuracy of over 85% on the validation set.\n"
   ]
  },
  {
   "cell_type": "code",
   "metadata": {},
   "outputs": [],
   "source": [
    "acc_urlopened = urlopen('https://cf-courses-data.s3.us.cloud-object-storage.appdomain.cloud/sybqacL5p1qeEO8d4xRZNg/model-IMDB%20dataset%20small2-acc')\nloss_urlopened = urlopen('https://cf-courses-data.s3.us.cloud-object-storage.appdomain.cloud/eOt6woGoaOB565T0RLH5WA/model-IMDB%20dataset%20small2-loss')\nacc_epoch = pickle.load(acc_urlopened)\ncum_loss_list = pickle.load(loss_urlopened)\nplot(cum_loss_list,acc_epoch)"
   ],
   "execution_count": null
  },
  {
   "cell_type": "markdown",
   "metadata": {},
   "source": [
    "The following code loads your pretrained model and evaluates its performance on the test set. This can take approximately 4 minutes to run.\n"
   ]
  },
  {
   "cell_type": "code",
   "metadata": {},
   "outputs": [],
   "source": [
    "urlopened = urlopen('https://cf-courses-data.s3.us.cloud-object-storage.appdomain.cloud/q66IH6a7lglkZ4haM6hB1w/model-IMDB%20dataset%20small2.pth')\nmodel_ = Net(vocab_size=vocab_size, num_class=2).to(device)\nmodel_.load_state_dict(torch.load(io.BytesIO(urlopened.read()), map_location=device))\nevaluate(test_dataloader, model_)"
   ],
   "execution_count": null
  },
  {
   "cell_type": "markdown",
   "metadata": {},
   "source": [
    "As you can see, the pretrained model achieved an accuracy of approximately 83% on the test data.\n"
   ]
  },
  {
   "cell_type": "markdown",
   "metadata": {},
   "source": [
    "### Fine-tune a model pretrained on the AG News dataset\n",
    "\n",
    "Rather than training a model on the IMDB dataset as you did earlier, you have the option to fine-tune a model that has been pretrained on the AG News dataset, which is a collection of news articles. The goal of the AG News dataset is to categorize news articles into one of four categories: Sports, Business, Sci/tech, or World. You’ll start training a model from scratch on the AG News dataset. To save time, you can do this in just one cell. Also, for the sake of efficiency, train for only 2 epochs on a smaller dataset to demonstrate what the training process looks like. Note that this can take approximately 3 minutes to run.\n"
   ]
  },
  {
   "cell_type": "code",
   "metadata": {},
   "outputs": [],
   "source": [
    "train_iter_ag_news = AG_NEWS(split=\"train\")\n\nnum_class_ag_news = len(set([label for (label, text) in train_iter_ag_news ]))\nnum_class_ag_news\n\n# Split the dataset into training and testing iterators.\ntrain_iter_ag_news, test_iter_ag_news = AG_NEWS()\n\n# Convert the training and testing iterators to map-style datasets.\ntrain_dataset_ag_news = to_map_style_dataset(train_iter_ag_news)\ntest_dataset_ag_news = to_map_style_dataset(test_iter_ag_news)\n\n# Determine the number of samples to be used for training and validation (5% for validation).\nnum_train_ag_news = int(len(train_dataset_ag_news) * 0.95)\n\n# Randomly split the training dataset into training and validation datasets using `random_split`.\n# The training dataset will contain 95% of the samples, and the validation dataset will contain the remaining 5%.\nsplit_train_ag_news_, split_valid_ag_news_ = random_split(train_dataset_ag_news, [num_train_ag_news, len(train_dataset_ag_news) - num_train_ag_news])\n\n# Make the training set smaller to allow it to run fast as an example.\n# IF YOU WANT TO TRAIN ON THE AG_NEWS DATASET, COMMENT OUT THE 2 LINEs BELOW.\n# HOWEVER, NOTE THAT TRAINING WILL TAKE A LONG TIME\nnum_train_ag_news = int(len(train_dataset_ag_news) * 0.05)\nsplit_train_ag_news_, _ = random_split(split_train_ag_news_, [num_train_ag_news, len(split_train_ag_news_) - num_train_ag_news])\n\n\ndevice = torch.device(\"cuda\" if torch.cuda.is_available() else \"cpu\")\ndevice\n\ndef label_pipeline(x):\n   return int(x) - 1\n\nfrom torch.nn.utils.rnn import pad_sequence\n\ndef collate_batch_ag_news(batch):\n    label_list, text_list = [], []\n    for _label, _text in batch:\n        label_list.append(label_pipeline(_label))\n        text_list.append(torch.tensor(text_pipeline(_text), dtype=torch.int64))\n\n\n    label_list = torch.tensor(label_list, dtype=torch.int64)\n    text_list = pad_sequence(text_list, batch_first=True)\n\n\n    return label_list.to(device), text_list.to(device)\n\nBATCH_SIZE = 32\n\ntrain_dataloader_ag_news = DataLoader(\n    split_train_ag_news_, batch_size=BATCH_SIZE, shuffle=True, collate_fn=collate_batch_ag_news\n)\nvalid_dataloader_ag_news = DataLoader(\n    split_valid_ag_news_, batch_size=BATCH_SIZE, shuffle=True, collate_fn=collate_batch_ag_news\n)\ntest_dataloader_ag_news = DataLoader(\n    test_dataset_ag_news, batch_size=BATCH_SIZE, shuffle=True, collate_fn=collate_batch_ag_news\n)\n\n\nmodel_ag_news = Net(num_class=4,vocab_size=vocab_size).to(device)\nmodel_ag_news.to(device)\n\n\nLR=1\ncriterion = torch.nn.CrossEntropyLoss()\noptimizer = torch.optim.SGD(model_ag_news.parameters(), lr=LR)\nscheduler = torch.optim.lr_scheduler.StepLR(optimizer, 1.0, gamma=0.1)\nsave_dir = \"\"\nfile_name = \"model_AG News small1.pth\"\ntrain_model(model=model_ag_news, optimizer=optimizer, criterion=criterion, train_dataloader=train_dataloader_ag_news, valid_dataloader=valid_dataloader_ag_news,  epochs=2, save_dir=save_dir, file_name=file_name)\n"
   ],
   "execution_count": null
  },
  {
   "cell_type": "markdown",
   "metadata": {},
   "source": [
    "Naturally, the model you trained earlier with just 2 epochs and a reduced dataset would not be used. Instead, you’ll use a model that has been pretrained using the same method but on the full AG News dataset and with 100 epochs.\n",
    "\n",
    "The following code plots the cost and validation data accuracy for each epoch of the pretrained model up to and including the epoch that yielded the highest accuracy. As you can see, the pretrained model achieved a very high accuracy of over 90% on the AG News validation set.\n"
   ]
  },
  {
   "cell_type": "code",
   "metadata": {},
   "outputs": [],
   "source": [
    "acc_urlopened = urlopen('https://cf-courses-data.s3.us.cloud-object-storage.appdomain.cloud/bQk8mJu3Uct3I4JEsEtRnw/model-AG%20News%20small1-acc')\nloss_urlopened = urlopen('https://cf-courses-data.s3.us.cloud-object-storage.appdomain.cloud/KNQkqJWWwY_XfbFBRFhZNA/model-AG%20News%20small1-loss')\nacc_epoch = pickle.load(acc_urlopened)\ncum_loss_list = pickle.load(loss_urlopened)\nplot(cum_loss_list,acc_epoch)"
   ],
   "execution_count": null
  },
  {
   "cell_type": "markdown",
   "metadata": {},
   "source": [
    "The following code loads the pretrained model and evaluates its performance on the AG News test set.\n"
   ]
  },
  {
   "cell_type": "code",
   "metadata": {},
   "outputs": [],
   "source": [
    "urlopened = urlopen('https://cf-courses-data.s3.us.cloud-object-storage.appdomain.cloud/9c3Dh2O_jsYBShBuchUNlg/model-AG%20News%20small1.pth')\nmodel_ag_news_ = Net(vocab_size=vocab_size, num_class=4).to(device)\nmodel_ag_news_.load_state_dict(torch.load(io.BytesIO(urlopened.read()), map_location=device))\nevaluate(test_dataloader_ag_news, model_ag_news_)"
   ],
   "execution_count": null
  },
  {
   "cell_type": "markdown",
   "metadata": {},
   "source": [
    "As you can see, the pretrained model worked extremely well on the AG News dataset. However, can this model be fine-tuned to perform well on the IMDB dataset as well? Let's find out! You can start off by loading the pretrained AG News model.\n"
   ]
  },
  {
   "cell_type": "code",
   "metadata": {},
   "outputs": [],
   "source": [
    "urlopened = urlopen('https://cf-courses-data.s3.us.cloud-object-storage.appdomain.cloud/9c3Dh2O_jsYBShBuchUNlg/model-AG%20News%20small1.pth')\nmodel_fine1 = Net(vocab_size=vocab_size, num_class=4).to(device)\nmodel_fine1.load_state_dict(torch.load(io.BytesIO(urlopened.read()), map_location=device))\n"
   ],
   "execution_count": null
  },
  {
   "cell_type": "markdown",
   "metadata": {},
   "source": [
    "The IMDB dataset is a binary classification task with only two classes (positive and negative reviews). Therefore, the output layer of the AG NEWS model should be adjusted to have just two output neurons to reflect the binary nature of the IMDB dataset. This adjustment is essential for the model to accurately learn and predict the sentiment of movie reviews in the IMDB dataset.\n"
   ]
  },
  {
   "cell_type": "code",
   "metadata": {},
   "outputs": [],
   "source": [
    "model_fine1.classifier\nin_features = model_fine1.classifier.in_features\nprint(\"Original final layer:\", model_fine1.classifier)\nprint(\"Input dimention  final layer:\", in_features)"
   ],
   "execution_count": null
  },
  {
   "cell_type": "markdown",
   "metadata": {},
   "source": [
    "You can change the final layer into a two-class problem.\n"
   ]
  },
  {
   "cell_type": "code",
   "metadata": {},
   "outputs": [],
   "source": [
    "model_fine1.classifier = nn.Linear(in_features, 2)\nmodel_fine1.to(device)"
   ],
   "execution_count": null
  },
  {
   "cell_type": "markdown",
   "metadata": {},
   "source": [
    "The following code shows the layers that are frozen (`requires_grad == False`) and unfrozen (`requires_grad == True`) in the model. The unfrozen layers will have their weights updated during fine-tuning.\n"
   ]
  },
  {
   "cell_type": "code",
   "metadata": {},
   "outputs": [],
   "source": [
    "for name, param in model_fine1.named_parameters():\n    print(f\"{name} requires_grad: {param.requires_grad}\")"
   ],
   "execution_count": null
  },
  {
   "cell_type": "markdown",
   "metadata": {},
   "source": [
    "The following block simulates fine-tuning on the shortened training set for just 2 epochs. This code should take approximately 2 minutes to run.\n"
   ]
  },
  {
   "cell_type": "code",
   "metadata": {},
   "outputs": [],
   "source": [
    "LR=1\ncriterion = torch.nn.CrossEntropyLoss()\noptimizer = torch.optim.SGD(model_fine1.parameters(), lr=LR)\nscheduler = torch.optim.lr_scheduler.StepLR(optimizer, 1.0, gamma=0.1)\nsave_dir = \"\"\nfile_name = \"model_fine1.pth\"\ntrain_model(model=model_fine1, optimizer=optimizer, criterion=criterion, train_dataloader=train_dataloader, valid_dataloader=valid_dataloader,  epochs=2,  save_dir=save_dir ,file_name=file_name )"
   ],
   "execution_count": null
  },
  {
   "cell_type": "markdown",
   "metadata": {},
   "source": [
    "Of course, you will not use the model you just fine-tuned on 2 epochs and a shortened dataset. Instead, show the progress of the fine-tuning of the full IMDB training set for 100 epochs.\n"
   ]
  },
  {
   "cell_type": "code",
   "metadata": {},
   "outputs": [],
   "source": [
    "acc_urlopened = urlopen('https://cf-courses-data.s3.us.cloud-object-storage.appdomain.cloud/3LEJw8BRgJJFGqlLxaETxA/model-fine1-acc')\nloss_urlopened = urlopen('https://cf-courses-data.s3.us.cloud-object-storage.appdomain.cloud/-CT1h97vjv0TolY82Nw29g/model-fine1-loss')\nacc_epoch = pickle.load(acc_urlopened)\ncum_loss_list = pickle.load(loss_urlopened)\nplot(cum_loss_list,acc_epoch)"
   ],
   "execution_count": null
  },
  {
   "cell_type": "markdown",
   "metadata": {},
   "source": [
    "The following line loads the prefine-tuned model and evaluates its performance on the IMDB test set.\n"
   ]
  },
  {
   "cell_type": "code",
   "metadata": {},
   "outputs": [],
   "source": [
    "urlopened = urlopen('https://cf-courses-data.s3.us.cloud-object-storage.appdomain.cloud/e0WOHKh5dnrbC2lGhpsMMw/model-fine1.pth')\nmodel_fine1_ = Net(vocab_size=vocab_size, num_class=2).to(device)\nmodel_fine1_.load_state_dict(torch.load(io.BytesIO(urlopened.read()), map_location=device))\nevaluate(test_dataloader, model_fine1_)"
   ],
   "execution_count": null
  },
  {
   "cell_type": "markdown",
   "metadata": {},
   "source": [
    "This model demonstrated notable improvement, exhibiting a remarkable achievement with an accuracy of 86% on the test data. This is higher than the 83% achieved by the model trained from scratch on the IMDB dataset. Although the training process was time-intensive (in fact, the fine-tuning was as time-intensive as training the model from scratch), the enhanced performance underscores the fine-tuned model's effectiveness and superiority over the model trained from scratch. A substantial portion of the computational effort was devoted to updating the transformer layers. To expedite the training process, one viable strategy is to focus on training the final layer only, which can significantly reduce the computational load but might compromise the model's accuracy.\n"
   ]
  },
  {
   "cell_type": "markdown",
   "metadata": {},
   "source": [
    "### Fine-tune the final layer only\n",
    "\n",
    "Fine-tuning the final output layer of a neural network is similar to fine-tuning the whole model. You can begin by loading the pretrained model you would like to fine-tune. In this case, it is the same model pretrained on the AG News dataset.\n"
   ]
  },
  {
   "cell_type": "code",
   "metadata": {},
   "outputs": [],
   "source": [
    "urlopened = urlopen('https://cf-courses-data.s3.us.cloud-object-storage.appdomain.cloud/9c3Dh2O_jsYBShBuchUNlg/model-AG%20News%20small1.pth')\nmodel_fine2 = Net(vocab_size=vocab_size, num_class=4).to(device)\nmodel_fine2.load_state_dict(torch.load(io.BytesIO(urlopened.read()), map_location=device))"
   ],
   "execution_count": null
  },
  {
   "cell_type": "markdown",
   "metadata": {},
   "source": [
    "Now here is the key difference: You iterate through all of the parameters in the `model_fine2` model and set the `requires_grad` attribute of each parameter to `False`. This effectively freezes all of the layers in the model, meaning that their weights are be updated during training.\n"
   ]
  },
  {
   "cell_type": "code",
   "metadata": {},
   "outputs": [],
   "source": [
    "# Freeze all layers in the model\nfor param in model_fine2.parameters():\n    param.requires_grad = False"
   ],
   "execution_count": null
  },
  {
   "cell_type": "markdown",
   "metadata": {},
   "source": [
    "Replace the final layer to reflect the fact that you are solving a two-class problem. Note that the new layer will be unfrozen.\n"
   ]
  },
  {
   "cell_type": "code",
   "metadata": {},
   "outputs": [],
   "source": [
    "dim=model_fine2.classifier.in_features"
   ],
   "execution_count": null
  },
  {
   "cell_type": "code",
   "metadata": {},
   "outputs": [],
   "source": [
    "model_fine2.classifier = nn.Linear(dim, 2)"
   ],
   "execution_count": null
  },
  {
   "cell_type": "code",
   "metadata": {},
   "outputs": [],
   "source": [
    "model_fine2.to(device)\n"
   ],
   "execution_count": null
  },
  {
   "cell_type": "markdown",
   "metadata": {},
   "source": [
    "To simulate training the model, simply execute the following cell, which trains on the shorted IMDB train set for just 2 epochs. The following code should take a shorter amount of time to train than the full fine-tuning conducted previously because only the final layer is unfrozen.\n"
   ]
  },
  {
   "cell_type": "code",
   "metadata": {},
   "outputs": [],
   "source": [
    "LR=1\ncriterion = torch.nn.CrossEntropyLoss()\noptimizer = torch.optim.SGD(model_fine2.parameters(), lr=LR)\nscheduler = torch.optim.lr_scheduler.StepLR(optimizer, 1.0, gamma=0.1)\nsave_dir = \"\"\nfile_name = \"model_fine2.pth\"\ntrain_model(model=model_fine2, optimizer=optimizer, criterion=criterion, train_dataloader=train_dataloader, valid_dataloader=valid_dataloader,  epochs=2,  save_dir=save_dir ,file_name=file_name )\n"
   ],
   "execution_count": null
  },
  {
   "cell_type": "markdown",
   "metadata": {},
   "source": [
    "Once again, you will not use the model that you just fine-tuned, but instead inspect the fine-tuning process of a model fine-tuned on the full IMDB training set for 100 epochs.\n"
   ]
  },
  {
   "cell_type": "code",
   "metadata": {},
   "outputs": [],
   "source": [
    "acc_urlopened = urlopen('https://cf-courses-data.s3.us.cloud-object-storage.appdomain.cloud/UdR3ApQnxSeV2mrA0CbiLg/model-fine2-acc')\nloss_urlopened = urlopen('https://cf-courses-data.s3.us.cloud-object-storage.appdomain.cloud/rWGDIF-uL2dEngWcIo9teQ/model-fine2-loss')\nacc_epoch = pickle.load(acc_urlopened)\ncum_loss_list = pickle.load(loss_urlopened)\nplot(cum_loss_list,acc_epoch)"
   ],
   "execution_count": null
  },
  {
   "cell_type": "markdown",
   "metadata": {},
   "source": [
    "The following line loads the model fine-tuned for 100 epochs on the full IMDB train set and evaluates its performance on the IMDB test set.\n"
   ]
  },
  {
   "cell_type": "code",
   "metadata": {},
   "outputs": [],
   "source": [
    "urlopened = urlopen('https://cf-courses-data.s3.us.cloud-object-storage.appdomain.cloud/B-1H6lpDg-A0zRwpB6Ek2g/model-fine2.pth')\nmodel_fine2_ = Net(vocab_size=vocab_size, num_class=2).to(device)\nmodel_fine2_.load_state_dict(torch.load(io.BytesIO(urlopened.read()), map_location=device))\nevaluate(test_dataloader, model_fine2_)"
   ],
   "execution_count": null
  },
  {
   "cell_type": "markdown",
   "metadata": {},
   "source": [
    "The previous code indicates that although fine-tuning the final layer takes a significantly smaller amount of time than fine-tuning the whole model, the performance of the model with just the last layer unfrozen is significantly worse (64% accuracy) than the fine-tuned model with all layers unfrozen (86% accuracy).\n"
   ]
  },
  {
   "cell_type": "markdown",
   "metadata": {},
   "source": [
    "---\n",
    "## Exercise: Unfreeze specific layers for fine-tuning\n",
    "\n",
    "First, run the following code block to initialize a model.\n"
   ]
  },
  {
   "cell_type": "code",
   "metadata": {},
   "outputs": [],
   "source": [
    "model_finetune_some_layers = Net(num_class=4,vocab_size=vocab_size).to(device)\n\n# Freeze all layers in the model\nfor param in model_finetune_some_layers.parameters():\n    param.requires_grad = False\n\nmodel_finetune_some_layers"
   ],
   "execution_count": null
  },
  {
   "cell_type": "markdown",
   "metadata": {},
   "source": [
    "Now, replace the section labeled `### REPLACE THIS ###` in the following code block to unfreeze the following layers for fine-tuning:\n",
    "- `linear2` for all `layers` in `transformer_encoder`\n",
    "- The `classifier` layer, which you will convert into a layer that has three output classes\n"
   ]
  },
  {
   "cell_type": "code",
   "metadata": {},
   "outputs": [],
   "source": [
    "### REPLACE THIS ###\n"
   ],
   "execution_count": null
  },
  {
   "cell_type": "markdown",
   "metadata": {},
   "source": [
    "<details>\n",
    "    <summary>Click here for the solution</summary>\n",
    "\n",
    "```python\n",
    "# Unfreeze the \"linear2\" layers:\n",
    "for i in range(2):\n",
    "    for param in model_finetune_some_layers.transformer_encoder.layers[i].linear2.parameters():\n",
    "        param.requires_grad = True\n",
    "\n",
    "# Replace the \"classifier\" layer. Note that this has the effect of unfreezing that layer:\n",
    "model_finetune_some_layers.classifier  = nn.Linear(100, 3)\n",
    "\n",
    "# Output all parameters indicating whether those parameters are unfrozen:\n",
    "for name, param in model_finetune_some_layers.named_parameters():\n",
    "    print(f\"{name} requires_grad: {param.requires_grad}\")\n",
    "```\n",
    "\n",
    "</details>\n"
   ]
  },
  {
   "cell_type": "markdown",
   "metadata": {},
   "source": [
    "---\n"
   ]
  },
  {
   "cell_type": "markdown",
   "metadata": {},
   "source": [
    "## Congratulations! You have completed the lab\n"
   ]
  },
  {
   "cell_type": "markdown",
   "metadata": {},
   "source": [
    "## Authors\n"
   ]
  },
  {
   "cell_type": "markdown",
   "metadata": {},
   "source": [
    "[Joseph Santarcangelo](https://author.skills.network/instructors/joseph_santarcangelo)\n",
    "\n",
    "Joseph has a Ph.D. in Electrical Engineering, his research focused on using machine learning, signal processing, and computer vision to determine how videos impact human cognition. Joseph has been working for IBM since he completed his PhD.\n"
   ]
  },
  {
   "cell_type": "markdown",
   "metadata": {},
   "source": [
    "[Wojciech \"Victor\" Fulmyk](https://www.linkedin.com/in/wfulmyk) \n",
    "\n",
    "Wojciech \"Victor\" Fulmyk is a Data Scientist at IBM, and a PhD Candidate in economics at the University of Calgary.\n"
   ]
  },
  {
   "cell_type": "markdown",
   "metadata": {},
   "source": [
    "[Ashutosh Sagar](https://www.linkedin.com/in/ashutoshsagar/) is completing his MS in CS from Dalhousie University. He has previous experience working with Natural Language Processing and as a Data Scientist.\n"
   ]
  },
  {
   "cell_type": "markdown",
   "metadata": {},
   "source": [
    "## References\n",
    "\n",
    "\n",
    "[TEXT CLASSIFICATION WITH THE TORCHTEXT LIBRARY](https://pytorch.org/tutorials/beginner/text_sentiment_ngrams_tutorial.html)\n"
   ]
  },
  {
   "cell_type": "markdown",
   "metadata": {},
   "source": [
    "© Copyright IBM Corporation. All rights reserved.\n"
   ]
  }
 ],
 "metadata": {
  "kernelspec": {
   "display_name": "Python 3 (ipykernel)",
   "language": "python",
   "name": "python3"
  },
  "language_info": {
   "codemirror_mode": {
    "name": "ipython",
    "version": 3
   },
   "file_extension": ".py",
   "mimetype": "text/x-python",
   "name": "python",
   "nbconvert_exporter": "python",
   "pygments_lexer": "ipython3",
   "version": "3.12.8"
  },
  "prev_pub_hash": "e8b595c397e9119bd2ea31a3d8622344f9e4348f5457e172356f45f0958de3ea"
 },
 "nbformat": 4,
 "nbformat_minor": 4
}
